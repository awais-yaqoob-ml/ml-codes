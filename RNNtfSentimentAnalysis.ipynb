{
  "nbformat": 4,
  "nbformat_minor": 0,
  "metadata": {
    "colab": {
      "provenance": [],
      "gpuType": "T4",
      "authorship_tag": "ABX9TyPGJnIboVXdYqpnKZ9UD8cC",
      "include_colab_link": true
    },
    "kernelspec": {
      "name": "python3",
      "display_name": "Python 3"
    },
    "language_info": {
      "name": "python"
    },
    "accelerator": "GPU",
    "gpuClass": "standard"
  },
  "cells": [
    {
      "cell_type": "markdown",
      "metadata": {
        "id": "view-in-github",
        "colab_type": "text"
      },
      "source": [
        "<a href=\"https://colab.research.google.com/github/awais-yaqoob-ml/ml-codes/blob/main/RNNtfSentimentAnalysis.ipynb\" target=\"_parent\"><img src=\"https://colab.research.google.com/assets/colab-badge.svg\" alt=\"Open In Colab\"/></a>"
      ]
    },
    {
      "cell_type": "code",
      "execution_count": 1,
      "metadata": {
        "colab": {
          "base_uri": "https://localhost:8080/"
        },
        "id": "3QkzKm0hJhLr",
        "outputId": "07b681c5-4ea7-44ed-887c-b5b2ad0c149d"
      },
      "outputs": [
        {
          "output_type": "stream",
          "name": "stdout",
          "text": [
            "Colab only includes TensorFlow 2.x; %tensorflow_version has no effect.\n",
            "Downloading data from https://storage.googleapis.com/tensorflow/tf-keras-datasets/imdb.npz\n",
            "17464789/17464789 [==============================] - 0s 0us/step\n"
          ]
        }
      ],
      "source": [
        "%tensorflow_version 2.x\n",
        "\n",
        "from keras.datasets import imdb\n",
        "# from keras.preprocessing import sequence\n",
        "import tensorflow as tf\n",
        "import numpy as np\n",
        "\n",
        "VOCAB_SIZE = 88584\n",
        "MAXLEN = 250\n",
        "BATCH_SIZE = 64\n",
        "\n",
        "(train_data, train_labels), (test_data, test_labels) = imdb.load_data(num_words=VOCAB_SIZE)"
      ]
    },
    {
      "cell_type": "code",
      "source": [
        "from keras.utils.data_utils import pad_sequences\n",
        "## padding for maxing len equal to 250 for all if >250 trim else pad\n",
        "train_data = pad_sequences(train_data, MAXLEN)\n",
        "test_data = pad_sequences(test_data, MAXLEN)"
      ],
      "metadata": {
        "id": "ep8S1cCoKu5h"
      },
      "execution_count": 2,
      "outputs": []
    },
    {
      "cell_type": "code",
      "source": [
        "len(train_data[66])"
      ],
      "metadata": {
        "colab": {
          "base_uri": "https://localhost:8080/"
        },
        "id": "53rMsJklMLVD",
        "outputId": "b7daeed1-7429-4023-b408-56bbfc5b68a8"
      },
      "execution_count": 3,
      "outputs": [
        {
          "output_type": "execute_result",
          "data": {
            "text/plain": [
              "250"
            ]
          },
          "metadata": {},
          "execution_count": 3
        }
      ]
    },
    {
      "cell_type": "code",
      "source": [
        "## model\n",
        "model = tf.keras.Sequential([\n",
        "    tf.keras.layers.Embedding(VOCAB_SIZE, 32),\n",
        "    tf.keras.layers.LSTM(32),\n",
        "    tf.keras.layers.Dense(1, activation='sigmoid')\n",
        "])\n",
        "\n",
        "model.summary()"
      ],
      "metadata": {
        "colab": {
          "base_uri": "https://localhost:8080/"
        },
        "id": "eWWm20JSMR5Q",
        "outputId": "ab20537a-2eaf-4d38-f004-71f4beba3034"
      },
      "execution_count": 4,
      "outputs": [
        {
          "output_type": "stream",
          "name": "stdout",
          "text": [
            "Model: \"sequential\"\n",
            "_________________________________________________________________\n",
            " Layer (type)                Output Shape              Param #   \n",
            "=================================================================\n",
            " embedding (Embedding)       (None, None, 32)          2834688   \n",
            "                                                                 \n",
            " lstm (LSTM)                 (None, 32)                8320      \n",
            "                                                                 \n",
            " dense (Dense)               (None, 1)                 33        \n",
            "                                                                 \n",
            "=================================================================\n",
            "Total params: 2,843,041\n",
            "Trainable params: 2,843,041\n",
            "Non-trainable params: 0\n",
            "_________________________________________________________________\n"
          ]
        }
      ]
    },
    {
      "cell_type": "code",
      "source": [
        "model.compile(optimizer=\"rmsprop\",\n",
        "              loss=\"binary_crossentropy\",\n",
        "              metrics=[\"accuracy\"])\n",
        "history = model.fit(train_data, train_labels, epochs=20, validation_split=0.2)"
      ],
      "metadata": {
        "colab": {
          "base_uri": "https://localhost:8080/"
        },
        "id": "HoA3OOQXNv3b",
        "outputId": "010ed169-b8f9-4403-8e4e-5daac09a7106"
      },
      "execution_count": 5,
      "outputs": [
        {
          "output_type": "stream",
          "name": "stdout",
          "text": [
            "Epoch 1/20\n",
            "625/625 [==============================] - 67s 95ms/step - loss: 0.4627 - accuracy: 0.7756 - val_loss: 0.3336 - val_accuracy: 0.8634\n",
            "Epoch 2/20\n",
            "625/625 [==============================] - 23s 37ms/step - loss: 0.2687 - accuracy: 0.8949 - val_loss: 0.3042 - val_accuracy: 0.8810\n",
            "Epoch 3/20\n",
            "625/625 [==============================] - 14s 23ms/step - loss: 0.2010 - accuracy: 0.9254 - val_loss: 0.3016 - val_accuracy: 0.8808\n",
            "Epoch 4/20\n",
            "625/625 [==============================] - 13s 21ms/step - loss: 0.1611 - accuracy: 0.9434 - val_loss: 0.2951 - val_accuracy: 0.8860\n",
            "Epoch 5/20\n",
            "625/625 [==============================] - 11s 18ms/step - loss: 0.1338 - accuracy: 0.9533 - val_loss: 0.3184 - val_accuracy: 0.8828\n",
            "Epoch 6/20\n",
            "625/625 [==============================] - 9s 14ms/step - loss: 0.1108 - accuracy: 0.9632 - val_loss: 0.3184 - val_accuracy: 0.8650\n",
            "Epoch 7/20\n",
            "625/625 [==============================] - 10s 16ms/step - loss: 0.0937 - accuracy: 0.9687 - val_loss: 0.5999 - val_accuracy: 0.8588\n",
            "Epoch 8/20\n",
            "625/625 [==============================] - 8s 13ms/step - loss: 0.0799 - accuracy: 0.9739 - val_loss: 0.4418 - val_accuracy: 0.8668\n",
            "Epoch 9/20\n",
            "625/625 [==============================] - 8s 13ms/step - loss: 0.0661 - accuracy: 0.9799 - val_loss: 0.4494 - val_accuracy: 0.8776\n",
            "Epoch 10/20\n",
            "625/625 [==============================] - 9s 14ms/step - loss: 0.0571 - accuracy: 0.9821 - val_loss: 0.4146 - val_accuracy: 0.8748\n",
            "Epoch 11/20\n",
            "625/625 [==============================] - 8s 13ms/step - loss: 0.0436 - accuracy: 0.9854 - val_loss: 0.4759 - val_accuracy: 0.8728\n",
            "Epoch 12/20\n",
            "625/625 [==============================] - 8s 13ms/step - loss: 0.0411 - accuracy: 0.9882 - val_loss: 0.5073 - val_accuracy: 0.8758\n",
            "Epoch 13/20\n",
            "625/625 [==============================] - 7s 12ms/step - loss: 0.0366 - accuracy: 0.9894 - val_loss: 0.4119 - val_accuracy: 0.8752\n",
            "Epoch 14/20\n",
            "625/625 [==============================] - 8s 12ms/step - loss: 0.0288 - accuracy: 0.9922 - val_loss: 0.5862 - val_accuracy: 0.8746\n",
            "Epoch 15/20\n",
            "625/625 [==============================] - 8s 12ms/step - loss: 0.0262 - accuracy: 0.9922 - val_loss: 0.5653 - val_accuracy: 0.8768\n",
            "Epoch 16/20\n",
            "625/625 [==============================] - 7s 11ms/step - loss: 0.0216 - accuracy: 0.9942 - val_loss: 0.5524 - val_accuracy: 0.8718\n",
            "Epoch 17/20\n",
            "625/625 [==============================] - 8s 13ms/step - loss: 0.0204 - accuracy: 0.9949 - val_loss: 0.7050 - val_accuracy: 0.8682\n",
            "Epoch 18/20\n",
            "625/625 [==============================] - 8s 13ms/step - loss: 0.0166 - accuracy: 0.9959 - val_loss: 0.6882 - val_accuracy: 0.8742\n",
            "Epoch 19/20\n",
            "625/625 [==============================] - 7s 11ms/step - loss: 0.0160 - accuracy: 0.9954 - val_loss: 0.6316 - val_accuracy: 0.8718\n",
            "Epoch 20/20\n",
            "625/625 [==============================] - 8s 13ms/step - loss: 0.0117 - accuracy: 0.9965 - val_loss: 0.6463 - val_accuracy: 0.8702\n"
          ]
        }
      ]
    },
    {
      "cell_type": "code",
      "source": [
        "word_index = imdb.get_word_index()\n",
        "\n",
        "def encode_text(text):\n",
        "  tokens = tf.keras.preprocessing.text.text_to_word_sequence(text)\n",
        "  tokens = [word_index[word] if word in word_index else 0 for word in tokens]\n",
        "  return pad_sequences([tokens], MAXLEN)[0]\n",
        "\n",
        "text = \"the movie is good\"\n",
        "encode = encode_text(text)\n",
        "print(encode)"
      ],
      "metadata": {
        "colab": {
          "base_uri": "https://localhost:8080/"
        },
        "id": "9WBE3E8rPXUV",
        "outputId": "25e7801b-f33d-4b44-f3f5-b8ce87bf5d93"
      },
      "execution_count": 7,
      "outputs": [
        {
          "output_type": "stream",
          "name": "stdout",
          "text": [
            "[ 0  0  0  0  0  0  0  0  0  0  0  0  0  0  0  0  0  0  0  0  0  0  0  0\n",
            "  0  0  0  0  0  0  0  0  0  0  0  0  0  0  0  0  0  0  0  0  0  0  0  0\n",
            "  0  0  0  0  0  0  0  0  0  0  0  0  0  0  0  0  0  0  0  0  0  0  0  0\n",
            "  0  0  0  0  0  0  0  0  0  0  0  0  0  0  0  0  0  0  0  0  0  0  0  0\n",
            "  0  0  0  0  0  0  0  0  0  0  0  0  0  0  0  0  0  0  0  0  0  0  0  0\n",
            "  0  0  0  0  0  0  0  0  0  0  0  0  0  0  0  0  0  0  0  0  0  0  0  0\n",
            "  0  0  0  0  0  0  0  0  0  0  0  0  0  0  0  0  0  0  0  0  0  0  0  0\n",
            "  0  0  0  0  0  0  0  0  0  0  0  0  0  0  0  0  0  0  0  0  0  0  0  0\n",
            "  0  0  0  0  0  0  0  0  0  0  0  0  0  0  0  0  0  0  0  0  0  0  0  0\n",
            "  0  0  0  0  0  0  0  0  0  0  0  0  0  0  0  0  0  0  0  0  0  0  0  0\n",
            "  0  0  0  0  0  0  1 17  6 49]\n"
          ]
        }
      ]
    },
    {
      "cell_type": "code",
      "source": [
        "reverse_word_index = {value: key for (key,value) in word_index.items()}\n",
        "\n",
        "def decode_integers(integers):\n",
        "  PAD = 0\n",
        "  text = \"\"\n",
        "  for num in integers:\n",
        "    if num != PAD:\n",
        "      text += reverse_word_index[num]+ \" \"\n",
        "  return text[:-1]\n",
        "\n",
        "print(decode_integers(encode))"
      ],
      "metadata": {
        "colab": {
          "base_uri": "https://localhost:8080/"
        },
        "id": "JNM_aWZwRQdj",
        "outputId": "dfc369d0-70cc-4c02-97d4-25d1d2e9f942"
      },
      "execution_count": 9,
      "outputs": [
        {
          "output_type": "stream",
          "name": "stdout",
          "text": [
            "the movie is good\n"
          ]
        }
      ]
    },
    {
      "cell_type": "code",
      "source": [
        "##predictions\n",
        "\n",
        "def predict(text):\n",
        "  encoded_text = encode_text(text)\n",
        "  pred = np.zeros((1,250))\n",
        "  pred[0] = encoded_text\n",
        "  result = model.predict(pred)\n",
        "  return result[0]\n",
        "\n",
        "input1 = \"this movie is great i will watch it again. how cool this is\"\n",
        "print(predict(input1))\n",
        "print(\"------------------------------\")\n",
        "input2 = \"this movies sucks waste of time don't waste your money\"\n",
        "print(predict(input2))"
      ],
      "metadata": {
        "colab": {
          "base_uri": "https://localhost:8080/"
        },
        "id": "iGiB6w8ZU95j",
        "outputId": "1995f1bc-94e6-4e44-e97a-2f24035eae02"
      },
      "execution_count": 15,
      "outputs": [
        {
          "output_type": "stream",
          "name": "stdout",
          "text": [
            "1/1 [==============================] - 0s 20ms/step\n",
            "[0.8567798]\n",
            "------------------------------\n",
            "1/1 [==============================] - 0s 21ms/step\n",
            "[0.7501463]\n"
          ]
        }
      ]
    }
  ]
}